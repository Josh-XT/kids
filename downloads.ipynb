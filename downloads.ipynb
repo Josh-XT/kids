{
 "cells": [
  {
   "cell_type": "markdown",
   "metadata": {},
   "source": [
    "# Downloads\n",
    "\n",
    "Install pytube from the fork. The original pytube is not working properly.\n"
   ]
  },
  {
   "cell_type": "code",
   "execution_count": 1,
   "metadata": {},
   "outputs": [],
   "source": [
    "import subprocess\n",
    "import os\n",
    "\n",
    "try:\n",
    "    from pytube.download_helper import (\n",
    "        download_videos_from_channels,\n",
    "        download_video,\n",
    "        download_videos_from_list,\n",
    "    )\n",
    "except ImportError:\n",
    "    subprocess.run([\"pip\", \"uninstall\", \"-y\", \"pytube\"])\n",
    "    if os.path.exists(\"pytube\"):\n",
    "        subprocess.run([\"git\", \"pull\"], cwd=\"pytube\")\n",
    "    subprocess.run([\"git\", \"clone\", \"https://github.com/Josh-XT/pytube\"])\n",
    "    os.chdir(\"pytube\")\n",
    "    subprocess.run([\"pip\", \"install\", \".\"])\n",
    "    os.chdir(\"..\")\n",
    "    from pytube.download_helper import (\n",
    "        download_videos_from_channels,\n",
    "        download_video,\n",
    "        download_videos_from_list,\n",
    "    )"
   ]
  },
  {
   "cell_type": "code",
   "execution_count": null,
   "metadata": {},
   "outputs": [],
   "source": [
    "download_videos_from_list(\"youtube.txt\")"
   ]
  },
  {
   "cell_type": "code",
   "execution_count": null,
   "metadata": {},
   "outputs": [],
   "source": [
    "download_videos_from_channels(channels=[\"officialalphablocks\", \"Numberblocks\"])"
   ]
  },
  {
   "cell_type": "code",
   "execution_count": 2,
   "metadata": {},
   "outputs": [
    {
     "data": {
      "text/plain": [
       "'Downloaded video from https://www.youtube.com/watch?v=1HAcza0nE34'"
      ]
     },
     "execution_count": 2,
     "metadata": {},
     "output_type": "execute_result"
    }
   ],
   "source": [
    "download_video(\"https://www.youtube.com/watch?v=1HAcza0nE34\")"
   ]
  }
 ],
 "metadata": {
  "kernelspec": {
   "display_name": "Python 3",
   "language": "python",
   "name": "python3"
  },
  "language_info": {
   "codemirror_mode": {
    "name": "ipython",
    "version": 3
   },
   "file_extension": ".py",
   "mimetype": "text/x-python",
   "name": "python",
   "nbconvert_exporter": "python",
   "pygments_lexer": "ipython3",
   "version": "3.10.11"
  }
 },
 "nbformat": 4,
 "nbformat_minor": 2
}
